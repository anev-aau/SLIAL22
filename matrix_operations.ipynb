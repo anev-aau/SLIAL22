{
 "cells": [
  {
   "cell_type": "markdown",
   "metadata": {},
   "source": [
    "# Implementation of matrix operations in C"
   ]
  },
  {
   "cell_type": "markdown",
   "metadata": {},
   "source": [
    "## Conventions for storing matrices in memory"
   ]
  },
  {
   "cell_type": "markdown",
   "metadata": {},
   "source": [
    "The C convention is that matrices are stored in memory row-by-row.  In order to store an $M\\times N$ matrix with real entries, where we assume that each entry is represented as a double precision floating point number, we need to allocate at least ```M*N*sizeof(double)``` bytes of memory; for example\n",
    "```C\n",
    "int M, N;\n",
    "double *A;\n",
    "/* define M and N */\n",
    "/* allocate memory for A */\n",
    "A = (double*)malloc(M*N*sizeof(double));\n",
    "/* do stuff with A */\n",
    "/* deallocate memory */\n",
    "free(A);\n",
    "```\n",
    "To access the element $A_{i,j}$ of the matrix defined above we write ```A[i*N + j]```, where $0\\leq i < N$, $0\\leq j < M$.\n",
    "Sometimes it will be convenient to look at submatrices of larger matrices.  In this case, we need to distinguish between the number of columns in the submatrix ($N$ in our notation) and the spacing in memory between the elements $A_{i,j}$ and $A_{i+1,j}$ (aka stride).  In order to allow this option, many numerical codes in addition to the dimensions $M$, $N$ of the matrix require us to provide an additional integer argument defining the stride, historically called ```LDA```.  In this notation, to access the element $A_{i,j}$ we write ```A[i*LDA + j]```."
   ]
  },
  {
   "cell_type": "markdown",
   "metadata": {},
   "source": [
    "## Matrix addition"
   ]
  },
  {
   "cell_type": "markdown",
   "metadata": {},
   "source": [
    "Let us write a function computing the sum of two matrices, $A$ and $B$ of size $M\\times N$, and store the result in the matrix $C$ of the same size.  The strides of the matrices are given as ```LDA```, ```LDB```, and ```LDC```."
   ]
  },
  {
   "cell_type": "code",
   "execution_count": 13,
   "metadata": {},
   "outputs": [
    {
     "name": "stdout",
     "output_type": "stream",
     "text": [
      "Overwriting matrix_add.c\n"
     ]
    }
   ],
   "source": [
    "%%writefile matrix_add.c\n",
    "\n",
    "void matrix_add(int M, int N,\n",
    "                double *A, int LDA,\n",
    "                double *B, int LDB,\n",
    "                double *C, int LDC)\n",
    "{\n",
    "    // Variable declarations.\n",
    "    int i, j;\n",
    "\n",
    "    // Loop over matrix rows\n",
    "    for (i = 0; i < M; ++i)\n",
    "        // Loop over columns\n",
    "        for (j = 0; j < N; ++j)\n",
    "            C[i*LDC + j] = A[i*LDA + j] + B[i*LDB + j];\n",
    "}"
   ]
  },
  {
   "cell_type": "markdown",
   "metadata": {},
   "source": [
    "Let us compile this function and produce a shared library matrix_add:"
   ]
  },
  {
   "cell_type": "code",
   "execution_count": 9,
   "metadata": {},
   "outputs": [
    {
     "data": {
      "text/plain": [
       "[]"
      ]
     },
     "execution_count": 9,
     "metadata": {},
     "output_type": "execute_result"
    }
   ],
   "source": [
    "!!gcc -Wall -shared -Wl,-install_name,matrix_add \\\n",
    "    -o matrix_add.so \\\n",
    "    -fPIC matrix_add.c"
   ]
  },
  {
   "cell_type": "markdown",
   "metadata": {},
   "source": [
    "We can now load this library from Python."
   ]
  },
  {
   "cell_type": "code",
   "execution_count": 14,
   "metadata": {},
   "outputs": [],
   "source": [
    "# Load the shared library\n",
    "import ctypes\n",
    "lib = ctypes.CDLL('./matrix_add.so')\n",
    "matrix_add = lib.matrix_add\n",
    "from numpy.ctypeslib import ndpointer\n",
    "# Define the types of the output and arguments of\n",
    "# this function.\n",
    "matrix_add.restype = None\n",
    "matrix_add.argtypes = [ctypes.c_int, #M\n",
    "                       ctypes.c_int, #N\n",
    "                       ndpointer(ctypes.c_double), ctypes.c_int, #A, LDA\n",
    "                       ndpointer(ctypes.c_double), ctypes.c_int, #B, LDB\n",
    "                       ndpointer(ctypes.c_double), ctypes.c_int  #C, LDC\n",
    "                       ]"
   ]
  },
  {
   "cell_type": "markdown",
   "metadata": {},
   "source": [
    "Here is a very simple test; we add two $2\\times 3$ matrices."
   ]
  },
  {
   "cell_type": "code",
   "execution_count": 11,
   "metadata": {},
   "outputs": [
    {
     "name": "stdout",
     "output_type": "stream",
     "text": [
      "C before\n",
      "[[0. 0. 0.]\n",
      " [0. 0. 0.]]\n",
      "C after\n",
      "[[ 8. 10. 12.]\n",
      " [14. 16. 18.]]\n"
     ]
    }
   ],
   "source": [
    "import numpy as np\n",
    "# define a couple of test arrays\n",
    "A = np.array([[1,2,3],[4,5,6]],dtype=np.double)\n",
    "B = np.array([[7,8,9],[10,11,12]],dtype=np.double)\n",
    "M,N = A.shape[0],A.shape[1]\n",
    "# and a zero output array\n",
    "C = np.zeros_like(A)\n",
    "print(\"C before\")\n",
    "print(C)\n",
    "# call add function; use N as the stride for all matrices\n",
    "matrix_add(M,N,A,N,B,N,C,N)\n",
    "print(\"C after\")\n",
    "print(C)"
   ]
  },
  {
   "cell_type": "markdown",
   "metadata": {},
   "source": [
    "Let us now repeat the same process, but we shall view $A$, $B$, and $C$ as $2x2$ submatrices of the original arrays, while supplying the stride of $3$:"
   ]
  },
  {
   "cell_type": "code",
   "execution_count": 15,
   "metadata": {},
   "outputs": [
    {
     "name": "stdout",
     "output_type": "stream",
     "text": [
      "C before\n",
      "[[0. 0. 0.]\n",
      " [0. 0. 0.]]\n",
      "C after\n",
      "[[ 8. 10.  0.]\n",
      " [14. 16.  0.]]\n"
     ]
    }
   ],
   "source": [
    "M,N = A.shape[0],2\n",
    "LDA = A.shape[1]\n",
    "# zero out the output array\n",
    "C[:] = 0\n",
    "print(\"C before\")\n",
    "print(C)\n",
    "# call add function; use N as the stride for all matrices\n",
    "matrix_add(M,N,A,LDA,B,LDA,C,LDA)\n",
    "print(\"C after\")\n",
    "print(C)"
   ]
  },
  {
   "cell_type": "markdown",
   "metadata": {},
   "source": [
    "## Naive matrix multiplication"
   ]
  },
  {
   "cell_type": "markdown",
   "metadata": {},
   "source": [
    "Let us now write a textbook version of the matrix multiplication routine.  Our goal is to compute $C=AB$, and we assume that the size of $A$ is $M\\times N$ and the size of $B$ is $N\\times K$. Consequently $C$ has the size $M\\times K$.  The strides are also provided as in the previous example of matrix addition."
   ]
  },
  {
   "cell_type": "code",
   "execution_count": 21,
   "metadata": {},
   "outputs": [
    {
     "name": "stdout",
     "output_type": "stream",
     "text": [
      "Overwriting matrix_mul.c\n"
     ]
    }
   ],
   "source": [
    "%%writefile matrix_mul.c\n",
    "\n",
    "void matrix_mul(int M, int N, int K,\n",
    "                double *A, int LDA,\n",
    "                double *B, int LDB,\n",
    "                double *C, int LDC)\n",
    "{\n",
    "    // Variable declarations.\n",
    "    int i, j, l;\n",
    "    double Cij;\n",
    "\n",
    "    // Loop over rows of C\n",
    "    for (i = 0; i < M; ++i)\n",
    "        // Loop over columns of C\n",
    "        for (j = 0; j < K; ++j)\n",
    "        {\n",
    "          // zero out the Cij\n",
    "          Cij = 0.0;\n",
    "          // compute the summation: innermost loop\n",
    "          for (l = 0; l < N; ++l)\n",
    "            Cij += A[i*LDA + l] * B[l*LDB + j];\n",
    "          // put the result into the matrix C\n",
    "          C[i*LDC + j] = Cij;\n",
    "        }\n",
    "}"
   ]
  },
  {
   "cell_type": "code",
   "execution_count": 22,
   "metadata": {},
   "outputs": [
    {
     "data": {
      "text/plain": [
       "[]"
      ]
     },
     "execution_count": 22,
     "metadata": {},
     "output_type": "execute_result"
    }
   ],
   "source": [
    "!!gcc -Wall -shared -Wl,-install_name,matrix_mul \\\n",
    "    -o matrix_mul.so \\\n",
    "    -fPIC matrix_mul.c"
   ]
  },
  {
   "cell_type": "code",
   "execution_count": 23,
   "metadata": {},
   "outputs": [],
   "source": [
    "# Load the shared library\n",
    "import ctypes\n",
    "lib = ctypes.CDLL('./matrix_mul.so')\n",
    "matrix_mul = lib.matrix_mul\n",
    "from numpy.ctypeslib import ndpointer\n",
    "# Define the types of the output and arguments of\n",
    "# this function.\n",
    "matrix_mul.restype = None\n",
    "matrix_mul.argtypes = [ctypes.c_int, #M\n",
    "                       ctypes.c_int, #N\n",
    "                       ctypes.c_int, #K                       \n",
    "                       ndpointer(ctypes.c_double), ctypes.c_int, #A, LDA\n",
    "                       ndpointer(ctypes.c_double), ctypes.c_int, #B, LDB\n",
    "                       ndpointer(ctypes.c_double), ctypes.c_int  #C, LDC\n",
    "                       ]"
   ]
  },
  {
   "cell_type": "markdown",
   "metadata": {},
   "source": [
    "Let us test the multiplication routine on some simple matrices."
   ]
  },
  {
   "cell_type": "code",
   "execution_count": 26,
   "metadata": {},
   "outputs": [
    {
     "name": "stdout",
     "output_type": "stream",
     "text": [
      "C before\n",
      "[[0. 0. 0. 0.]\n",
      " [0. 0. 0. 0.]]\n",
      "C after\n",
      "[[ 74.  80.  86.  92.]\n",
      " [173. 188. 203. 218.]]\n"
     ]
    }
   ],
   "source": [
    "# define a couple of test arrays\n",
    "A = np.array([[1,2,3],[4,5,6]],dtype=np.double)\n",
    "B = np.array([[7,8,9,10],[11,12,13,14],[15,16,17,18]],dtype=np.double)\n",
    "M,N,K = A.shape[0],A.shape[1],B.shape[1]\n",
    "C = np.zeros((M,K),dtype=np.double)\n",
    "print(\"C before\")\n",
    "print(C)\n",
    "# call add function; use N as the stride for all matrices\n",
    "matrix_mul(M,N,K,A,N,B,K,C,K)\n",
    "print(\"C after\")\n",
    "print(C)"
   ]
  },
  {
   "cell_type": "markdown",
   "metadata": {},
   "source": [
    "## Strassen's algorithm for matrix multiplication"
   ]
  },
  {
   "cell_type": "markdown",
   "metadata": {},
   "source": [
    "We now implement a more efficient (for larger matrices) multiplication algorithm."
   ]
  },
  {
   "cell_type": "code",
   "execution_count": 67,
   "metadata": {},
   "outputs": [
    {
     "name": "stdout",
     "output_type": "stream",
     "text": [
      "Overwriting matrix_strassen.c\n"
     ]
    }
   ],
   "source": [
    "%%writefile matrix_strassen.c\n",
    "\n",
    "#include <stdlib.h>\n",
    "\n",
    "/* Helper function 1;\n",
    "   compute C = A + s*B */\n",
    "void matrix_sadd(int nrow, int ncol,\n",
    "                 const double* A, int lda, double s,\n",
    "                 const double* B, int ldb,\n",
    "                 double* C, int ldc)\n",
    "{\n",
    "  int i,j;\n",
    "  for (i=0; i<nrow; ++i)\n",
    "    for (j=0; j<ncol; ++j)\n",
    "      C[i*ldc + j] = A[i*lda + j] + s*B[i*ldb + j];\n",
    "}\n",
    "\n",
    "/* Helper function 2;\n",
    "   C = A*B, naive algorithm */\n",
    "void matrix_mul(int nrowA, int ncolA, int ncolB,\n",
    "                const double* A, int lda, const double* B, int ldb,\n",
    "                double* C, int ldc)\n",
    "{\n",
    "  int i,j,k;\n",
    "  double Cij;\n",
    "  for (i=0; i<nrowA; ++i)\n",
    "    for (j=0; j<ncolB; ++j)\n",
    "      {\n",
    "        Cij = 0;\n",
    "        for (k=0; k<ncolA; ++k)\n",
    "          Cij += A[i*lda + k]*B[k*ldb + j];\n",
    "        C[i*ldc+j] = Cij;\n",
    "      }\n",
    "}\n",
    "\n",
    "\n",
    "#define N_MIN 16\n",
    "\n",
    "/* Main function;  \n",
    "   C = A*B, Strassen algorithm. */\n",
    "/* All matrices are assumed to be NxN */\n",
    "void matrix_strassen(int N,\n",
    "                  const double* A, int lda, const double* B, int ldb,\n",
    "                  double* C, int ldc)\n",
    "{\n",
    "  double *Atmp, *Btmp, *M1, *M2, *M3, *M4, *M5, *M6, *M7;\n",
    "  int n;\n",
    "\n",
    "  if ((N <= N_MIN) || (N % 2))\n",
    "    /* If N is odd or too small, we revert to the naive algorithm */\n",
    "    matrix_mul (N,N,N,A,lda,B,ldb,C,ldc);\n",
    "  else\n",
    "  {\n",
    "    /* N is even */\n",
    "    n = N/2;\n",
    "    Atmp = (double*)malloc(n*n*sizeof(double));\n",
    "    Btmp = (double*)malloc(n*n*sizeof(double));\n",
    "    M1   = (double*)malloc(n*n*sizeof(double));\n",
    "    M2   = (double*)malloc(n*n*sizeof(double));\n",
    "    M3   = (double*)malloc(n*n*sizeof(double));\n",
    "    M4   = (double*)malloc(n*n*sizeof(double));\n",
    "    M5   = (double*)malloc(n*n*sizeof(double));\n",
    "    M6   = (double*)malloc(n*n*sizeof(double));\n",
    "    M7   = (double*)malloc(n*n*sizeof(double));\n",
    "\n",
    "    /* M1 = (A11 + A22)*(B11+B22) */\n",
    "    matrix_sadd(n,n,A,lda,1.0,A+n*lda+n,lda,Atmp,n);\n",
    "    matrix_sadd(n,n,B,ldb,1.0,B+n*ldb+n,ldb,Btmp,n);\n",
    "    matrix_strassen(n,Atmp,n,Btmp,n,M1,n);\n",
    "    /* M2 = (A21 + A22)*B11 */\n",
    "    matrix_sadd(n,n,A+n*lda,lda,1.0,A+n*lda+n,lda,Atmp,n);\n",
    "    matrix_strassen(n,Atmp,n,B,ldb,M2,n);\n",
    "    /* M3 = A11*(B12-B22) */\n",
    "    matrix_sadd(n,n,B+n,ldb,-1.0,B+n*ldb+n,ldb,Btmp,n);\n",
    "    matrix_strassen(n,A,lda,Btmp,n,M3,n);\n",
    "    /* M4 = A22*(B21-B11) */\n",
    "    matrix_sadd(n,n,B+n*ldb,ldb,-1.0,B,ldb,Btmp,n);\n",
    "    matrix_strassen(n,A+n*lda+n,lda,Btmp,n,M4,n);\n",
    "    /* M5 = (A11 + A12)*B22 */\n",
    "    matrix_sadd(n,n,A,lda,1.0,A+n,lda,Atmp,n);\n",
    "    matrix_strassen(n,Atmp,n,B+n*ldb+n,ldb,M5,n);\n",
    "    /* M6 = (A21 - A11)*(B11+B12) */\n",
    "    matrix_sadd(n,n,A+n*lda,lda,-1.0,A,lda,Atmp,n);\n",
    "    matrix_sadd(n,n,B,ldb,1.0,B+n,ldb,Btmp,n);\n",
    "    matrix_strassen(n,Atmp,n,Btmp,n,M6,n);\n",
    "    /* M7 = (A12 - A22)*(B21+B22) */\n",
    "    matrix_sadd(n,n,A+n,lda,-1.0,A+n*lda+n,lda,Atmp,n);\n",
    "    matrix_sadd(n,n,B+n*ldb,ldb,1.0,B+n*ldb+n,ldb,Btmp,n);\n",
    "    matrix_strassen(n,Atmp,n,Btmp,n,M7,n);\n",
    "    /* C12 = M3+M5 */\n",
    "    matrix_sadd(n,n,M3,n,1.0,M5,n,C+n,ldc);\n",
    "    /* C21 = M2+M4 */\n",
    "    matrix_sadd(n,n,M2,n,1.0,M4,n,C+n*ldc,ldc);\n",
    "    /* C11 = M1+M4-M5+M7 */\n",
    "    matrix_sadd(n,n,M1,n,1.0,M4,n,Atmp,n);\n",
    "    matrix_sadd(n,n,M7,n,-1.0,M5,n,Btmp,n);\n",
    "    matrix_sadd(n,n,Atmp,n,1.0,Btmp,n,C,ldc);\n",
    "    /* C22 = M1-M2+M3+M6 */\n",
    "    matrix_sadd(n,n,M1,n,-1.0,M2,n,Atmp,n);\n",
    "    matrix_sadd(n,n,M3,n,1.0,M6,n,Btmp,n);\n",
    "    matrix_sadd(n,n,Atmp,n,1.0,Btmp,n,C+n*ldc+n,ldc);\n",
    "    /* done */\n",
    "    free(M7); free(M6); free(M5); free(M4);\n",
    "    free(M3); free(M2); free(M1); free(Btmp); free(Atmp);\n",
    "  }\n",
    "}"
   ]
  },
  {
   "cell_type": "code",
   "execution_count": 68,
   "metadata": {},
   "outputs": [
    {
     "data": {
      "text/plain": [
       "[]"
      ]
     },
     "execution_count": 68,
     "metadata": {},
     "output_type": "execute_result"
    }
   ],
   "source": [
    "!!gcc -Wall -shared -Wl,-install_name,matrix_strassen \\\n",
    "    -o matrix_strassen.so \\\n",
    "    -fPIC matrix_strassen.c"
   ]
  },
  {
   "cell_type": "code",
   "execution_count": 69,
   "metadata": {},
   "outputs": [],
   "source": [
    "# Load the shared library\n",
    "import ctypes\n",
    "lib = ctypes.CDLL('./matrix_strassen.so')\n",
    "matrix_strassen = lib.matrix_strassen\n",
    "from numpy.ctypeslib import ndpointer\n",
    "# Define the types of the output and arguments of\n",
    "# this function.\n",
    "matrix_strassen.restype = None\n",
    "matrix_strassen.argtypes = [ctypes.c_int, #N\n",
    "                       ndpointer(ctypes.c_double), ctypes.c_int, #A, LDA\n",
    "                       ndpointer(ctypes.c_double), ctypes.c_int, #B, LDB\n",
    "                       ndpointer(ctypes.c_double), ctypes.c_int  #C, LDC\n",
    "                       ]"
   ]
  },
  {
   "cell_type": "markdown",
   "metadata": {},
   "source": [
    "We now generate a couple of larger matrices, and test the naive algorithm against Strassen's"
   ]
  },
  {
   "cell_type": "code",
   "execution_count": 73,
   "metadata": {},
   "outputs": [
    {
     "name": "stdout",
     "output_type": "stream",
     "text": [
      "Naive algorithm; elapsed = 7.710106s\n",
      "Strassen's algorithm; elapsed = 2.124149s\n",
      "Difference between two matrices (due to round-offs) = 3.457633e-15\n"
     ]
    }
   ],
   "source": [
    "from timeit import default_timer as timer\n",
    "\n",
    "N = 1024\n",
    "A = np.random.rand(N,N)\n",
    "B = np.random.rand(N,N)\n",
    "C1= np.zeros_like(A)\n",
    "C2= np.zeros_like(A)\n",
    "\n",
    "start = timer()\n",
    "matrix_mul(N,N,N,A,N,B,N,C1,N)\n",
    "end   = timer()\n",
    "print(\"Naive algorithm; elapsed = %fs\" % (end-start))\n",
    "\n",
    "start = timer()\n",
    "matrix_strassen(N,A,N,B,N,C2,N)\n",
    "end   = timer()\n",
    "print(\"Strassen's algorithm; elapsed = %fs\" % (end-start))\n",
    "\n",
    "relative_error = np.linalg.norm(C1-C2,'fro')/np.linalg.norm(C1,'fro')\n",
    "print(\"Difference between two matrices (due to round-offs) = %e\" % relative_error)"
   ]
  },
  {
   "cell_type": "code",
   "execution_count": null,
   "metadata": {},
   "outputs": [],
   "source": []
  }
 ],
 "metadata": {
  "kernelspec": {
   "display_name": "Python 3",
   "language": "python",
   "name": "python3"
  },
  "language_info": {
   "codemirror_mode": {
    "name": "ipython",
    "version": 3
   },
   "file_extension": ".py",
   "mimetype": "text/x-python",
   "name": "python",
   "nbconvert_exporter": "python",
   "pygments_lexer": "ipython3",
   "version": "3.8.8"
  }
 },
 "nbformat": 4,
 "nbformat_minor": 4
}
